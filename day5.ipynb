{
  "nbformat": 4,
  "nbformat_minor": 0,
  "metadata": {
    "colab": {
      "name": "day5.ipynb",
      "provenance": [],
      "mount_file_id": "1qn6amsZnm6b-DGnXmBTNgXTBPkGCymQ5",
      "authorship_tag": "ABX9TyO68jqJcdSnwORg87VuTIGB",
      "include_colab_link": true
    },
    "kernelspec": {
      "name": "python3",
      "display_name": "Python 3"
    },
    "accelerator": "GPU"
  },
  "cells": [
    {
      "cell_type": "markdown",
      "metadata": {
        "id": "view-in-github",
        "colab_type": "text"
      },
      "source": [
        "<a href=\"https://colab.research.google.com/github/rdulak/dw_matrix_road_sign/blob/master/day5.ipynb\" target=\"_parent\"><img src=\"https://colab.research.google.com/assets/colab-badge.svg\" alt=\"Open In Colab\"/></a>"
      ]
    },
    {
      "cell_type": "code",
      "metadata": {
        "id": "4GX8Ryzg20vA",
        "colab_type": "code",
        "outputId": "9606329d-7864-4966-f90a-65581f5178da",
        "colab": {
          "base_uri": "https://localhost:8080/",
          "height": 186
        }
      },
      "source": [
        "!pip install hyperopt"
      ],
      "execution_count": 1,
      "outputs": [
        {
          "output_type": "stream",
          "text": [
            "Requirement already satisfied: hyperopt in /usr/local/lib/python3.6/dist-packages (0.1.2)\n",
            "Requirement already satisfied: six in /usr/local/lib/python3.6/dist-packages (from hyperopt) (1.12.0)\n",
            "Requirement already satisfied: future in /usr/local/lib/python3.6/dist-packages (from hyperopt) (0.16.0)\n",
            "Requirement already satisfied: tqdm in /usr/local/lib/python3.6/dist-packages (from hyperopt) (4.38.0)\n",
            "Requirement already satisfied: pymongo in /usr/local/lib/python3.6/dist-packages (from hyperopt) (3.10.1)\n",
            "Requirement already satisfied: networkx in /usr/local/lib/python3.6/dist-packages (from hyperopt) (2.4)\n",
            "Requirement already satisfied: scipy in /usr/local/lib/python3.6/dist-packages (from hyperopt) (1.4.1)\n",
            "Requirement already satisfied: numpy in /usr/local/lib/python3.6/dist-packages (from hyperopt) (1.18.2)\n",
            "Requirement already satisfied: decorator>=4.3.0 in /usr/local/lib/python3.6/dist-packages (from networkx->hyperopt) (4.4.2)\n"
          ],
          "name": "stdout"
        }
      ]
    },
    {
      "cell_type": "code",
      "metadata": {
        "id": "6ZVpLnOq3GTL",
        "colab_type": "code",
        "colab": {}
      },
      "source": [
        "import pandas as pd\n",
        "import numpy as np\n",
        "import os\n",
        "import datetime\n",
        "import tensorflow as tf\n",
        "from tensorflow.keras.models import Sequential\n",
        "from tensorflow.keras.layers import Conv2D, MaxPool2D, Dense, Flatten, Dropout\n",
        "from tensorflow.keras.utils import to_categorical\n",
        "\n",
        "%load_ext tensorboard\n",
        "\n",
        "import matplotlib.pyplot as plt\n",
        "from skimage import color, exposure\n",
        "\n",
        "from sklearn.metrics import accuracy_score\n",
        "from hyperopt import hp, STATUS_OK, tpe, Trials, fmin"
      ],
      "execution_count": 0,
      "outputs": []
    },
    {
      "cell_type": "code",
      "metadata": {
        "id": "M2hrn4Id3clj",
        "colab_type": "code",
        "outputId": "88b2711f-f474-4467-cc4c-4a65d19c0f28",
        "colab": {
          "base_uri": "https://localhost:8080/",
          "height": 54
        }
      },
      "source": [
        "cd '/content/drive/My Drive/Colab Notebooks/matrix/matrix_three/dw_matrix_road_sign'"
      ],
      "execution_count": 3,
      "outputs": [
        {
          "output_type": "stream",
          "text": [
            "/content/drive/My Drive/Colab Notebooks/matrix/matrix_three/dw_matrix_road_sign\n"
          ],
          "name": "stdout"
        }
      ]
    },
    {
      "cell_type": "code",
      "metadata": {
        "id": "JYKSuM373jod",
        "colab_type": "code",
        "colab": {}
      },
      "source": [
        "train = pd.read_pickle('data/train.p')\n",
        "test = pd.read_pickle('data/test.p')\n",
        "X_train, y_train = train['features'], train['labels']\n",
        "X_test, y_test = test['features'], test['labels']"
      ],
      "execution_count": 0,
      "outputs": []
    },
    {
      "cell_type": "code",
      "metadata": {
        "id": "S0YqnaM43mVN",
        "colab_type": "code",
        "colab": {}
      },
      "source": [
        "if y_train.ndim == 1: y_train = to_categorical(y_train)\n",
        "if y_test.ndim == 1: y_test = to_categorical(y_test)"
      ],
      "execution_count": 0,
      "outputs": []
    },
    {
      "cell_type": "code",
      "metadata": {
        "id": "mgsRPz1d3y0r",
        "colab_type": "code",
        "colab": {}
      },
      "source": [
        "input_shape = X_train.shape[1:]\n",
        "num_classes = y_train.shape[1]"
      ],
      "execution_count": 0,
      "outputs": []
    },
    {
      "cell_type": "code",
      "metadata": {
        "id": "xZX2EbRu32PO",
        "colab_type": "code",
        "colab": {}
      },
      "source": [
        "def train_model(model, X_train, y_train, params_fit={}):\n",
        "  model.compile(loss='categorical_crossentropy', optimizer='Adam', metrics=['accuracy'])\n",
        "\n",
        "  logdir = os.path.join(\"logs\",datetime.datetime.now().strftime(\"%Y%m%d-%H%M%S\"))\n",
        "  tensorboard_callback = tf.keras.callbacks.TensorBoard(logdir, histogram_freq=1)\n",
        "\n",
        "  model.fit(\n",
        "      X_train,\n",
        "      y_train,\n",
        "      batch_size=params_fit.get('batch_size', 128),\n",
        "      epochs=params_fit.get('epochs', 5),\n",
        "      verbose=params_fit.get('verbose',1),\n",
        "      validation_data=params_fit.get('validation_data', (X_train, y_train)),\n",
        "      callbacks= [tensorboard_callback]\n",
        "  )\n",
        "      \n",
        "  return model\n",
        "\n",
        "def predict(model_trained, X_test, y_test, scoring=accuracy_score):\n",
        "\n",
        "  y_test_norm = np.argmax(y_test, axis=1)\n",
        "\n",
        "  y_pred_prob = model_trained.predict(X_test)\n",
        "  y_pred = np.argmax(y_pred_prob, axis=1)\n",
        "\n",
        "  return scoring(y_test_norm, y_pred)"
      ],
      "execution_count": 0,
      "outputs": []
    },
    {
      "cell_type": "code",
      "metadata": {
        "id": "dBX3Xnjv4PWB",
        "colab_type": "code",
        "colab": {}
      },
      "source": [
        "def get_cnn_v5(input_shape, num_classes):\n",
        "  return Sequential([\n",
        "    Conv2D(filters=32, kernel_size=(3, 3), activation='relu', input_shape=input_shape),\n",
        "    Conv2D(filters=32, kernel_size=(3, 3), activation='relu', padding='same'),\n",
        "    MaxPool2D(),\n",
        "    Dropout(0.3),\n",
        "\n",
        "    Conv2D(filters=64, kernel_size=(3, 3), activation='relu', padding='same'),\n",
        "    Conv2D(filters=64, kernel_size=(3, 3), activation='relu'),\n",
        "    MaxPool2D(),\n",
        "    Dropout(0.3),\n",
        "\n",
        "    Conv2D(filters=64, kernel_size=(3, 3), activation='relu', padding='same'),\n",
        "    Conv2D(filters=64, kernel_size=(3, 3), activation='relu'),\n",
        "    MaxPool2D(),\n",
        "    Dropout(0.3),\n",
        "\n",
        "    Flatten(),\n",
        "\n",
        "    Dense(1024, activation='relu'),\n",
        "    Dropout(0.3),\n",
        "\n",
        "    Dense(1024, activation='relu'),\n",
        "    Dropout(0.3),\n",
        "\n",
        "    Dense(num_classes, activation='softmax'),\n",
        "  ])"
      ],
      "execution_count": 0,
      "outputs": []
    },
    {
      "cell_type": "code",
      "metadata": {
        "id": "Wp8tc8dK43wV",
        "colab_type": "code",
        "outputId": "2a5e099a-4ffa-4a20-f3bb-5c87ee4d0fec",
        "colab": {
          "base_uri": "https://localhost:8080/",
          "height": 220
        }
      },
      "source": [
        "model = get_cnn_v5(input_shape, num_classes)\n",
        "model_trained = train_model(model, X_train, y_train)\n",
        "\n",
        "predict(model_trained, X_test, y_test)"
      ],
      "execution_count": 9,
      "outputs": [
        {
          "output_type": "stream",
          "text": [
            "Epoch 1/5\n",
            "272/272 [==============================] - 5s 20ms/step - loss: 2.9625 - accuracy: 0.2051 - val_loss: 1.5081 - val_accuracy: 0.5193\n",
            "Epoch 2/5\n",
            "272/272 [==============================] - 5s 18ms/step - loss: 1.1114 - accuracy: 0.6453 - val_loss: 0.3100 - val_accuracy: 0.8971\n",
            "Epoch 3/5\n",
            "272/272 [==============================] - 5s 18ms/step - loss: 0.4753 - accuracy: 0.8509 - val_loss: 0.1073 - val_accuracy: 0.9676\n",
            "Epoch 4/5\n",
            "272/272 [==============================] - 5s 18ms/step - loss: 0.2857 - accuracy: 0.9133 - val_loss: 0.0512 - val_accuracy: 0.9855\n",
            "Epoch 5/5\n",
            "272/272 [==============================] - 5s 18ms/step - loss: 0.2154 - accuracy: 0.9361 - val_loss: 0.0367 - val_accuracy: 0.9891\n"
          ],
          "name": "stdout"
        },
        {
          "output_type": "execute_result",
          "data": {
            "text/plain": [
              "0.9680272108843537"
            ]
          },
          "metadata": {
            "tags": []
          },
          "execution_count": 9
        }
      ]
    },
    {
      "cell_type": "code",
      "metadata": {
        "id": "IVN8azwa_ml9",
        "colab_type": "code",
        "colab": {
          "base_uri": "https://localhost:8080/",
          "height": 54
        },
        "outputId": "a389d7a3-825c-4ac5-d136-ecfbcf96fa0f"
      },
      "source": [
        "def get_model(params):\n",
        "  return Sequential([\n",
        "    Conv2D(filters=32, kernel_size=(3, 3), activation='relu', input_shape=input_shape),\n",
        "    Conv2D(filters=32, kernel_size=(3, 3), activation='relu', padding='same'),\n",
        "    MaxPool2D(),\n",
        "    Dropout(params['dropout_cnn_block_one']),\n",
        "\n",
        "    Conv2D(filters=64, kernel_size=(3, 3), activation='relu', padding='same'),\n",
        "    Conv2D(filters=64, kernel_size=(3, 3), activation='relu'),\n",
        "    MaxPool2D(),\n",
        "    Dropout(params['dropout_cnn_block_two']),\n",
        "\n",
        "    Conv2D(filters=128, kernel_size=(3, 3), activation='relu', padding='same'),\n",
        "    Conv2D(filters=128, kernel_size=(3, 3), activation='relu'),\n",
        "    MaxPool2D(),\n",
        "    Dropout(params['dropout_cnn_block_three']),\n",
        "\n",
        "    Flatten(),\n",
        "\n",
        "    Dense(1024, activation='relu'),\n",
        "    Dropout(params['dropout_dense_block_one']),\n",
        "\n",
        "    Dense(1024, activation='relu'),\n",
        "    Dropout(params['dropout_dense_block_two']),\n",
        "\n",
        "    Dense(num_classes, activation='softmax'),\n",
        "  ])"
      ],
      "execution_count": 11,
      "outputs": [
        {
          "output_type": "stream",
          "text": [
            "ERROR! Session/line number was not unique in database. History logging moved to new session 68\n"
          ],
          "name": "stdout"
        }
      ]
    },
    {
      "cell_type": "code",
      "metadata": {
        "id": "427g4T8u6qog",
        "colab_type": "code",
        "colab": {}
      },
      "source": [
        "def func_obj(params):\n",
        "  model = get_model(params)\n",
        "  model.compile(loss='categorical_crossentropy', optimizer='Adam', metrics=['accuracy'])\n",
        "\n",
        "  model.fit(\n",
        "      X_train,\n",
        "      y_train,\n",
        "      batch_size=int(params.get('batch_size', 128)),\n",
        "      epochs=5,\n",
        "      verbose=0\n",
        "  )\n",
        "\n",
        "  score = model.evaluate(X_test, y_test, verbose=0)\n",
        "  accuracy=score[1]\n",
        "  print(params, 'accuracy={}'.format(accuracy))\n",
        "      \n",
        "  return {'loss': -accuracy, 'status': STATUS_OK, 'model': model}"
      ],
      "execution_count": 0,
      "outputs": []
    },
    {
      "cell_type": "code",
      "metadata": {
        "id": "ty77k6hT75XN",
        "colab_type": "code",
        "outputId": "f5840171-da0c-4f6a-9abd-5684fc2b6bd0",
        "colab": {
          "base_uri": "https://localhost:8080/",
          "height": 1000
        }
      },
      "source": [
        "space = {\n",
        "    'batch_size': hp.quniform('batch_size', 100, 200, 10),\n",
        "    'dropout_cnn_block_one': hp.uniform('dropout_cnn_block_one', 0.3, 0.5),\n",
        "    'dropout_cnn_block_two': hp.uniform('dropout_cnn_block_two', 0.3, 0.5),\n",
        "    'dropout_cnn_block_three': hp.uniform('dropout_cnn_block_three', 0.3, 0.5),\n",
        "\n",
        "    'dropout_dense_block_one': hp.uniform('dropout_dense_block_one', 0.3, 0.7),\n",
        "    'dropout_dense_block_two': hp.uniform('dropout_dense_block_two', 0.3, 0.7),\n",
        "}\n",
        "\n",
        "best = fmin(\n",
        "    func_obj,\n",
        "    space,\n",
        "    tpe.suggest,\n",
        "    30,\n",
        "    Trials()\n",
        ")"
      ],
      "execution_count": 15,
      "outputs": [
        {
          "output_type": "stream",
          "text": [
            "{'batch_size': 140.0, 'dropout_cnn_block_one': 0.4597930879087164, 'dropout_cnn_block_three': 0.4961359510386922, 'dropout_cnn_block_two': 0.42174645015866585, 'dropout_dense_block_one': 0.5425623973986373, 'dropout_dense_block_two': 0.5847916856867468}\n",
            "accuracy=0.7857142686843872\n",
            "{'batch_size': 170.0, 'dropout_cnn_block_one': 0.4186670688053122, 'dropout_cnn_block_three': 0.4339702023391056, 'dropout_cnn_block_two': 0.30664079360600915, 'dropout_dense_block_one': 0.5178806320824451, 'dropout_dense_block_two': 0.5744763839814135}\n",
            "accuracy=0.9453514814376831\n",
            "{'batch_size': 150.0, 'dropout_cnn_block_one': 0.43970635443131767, 'dropout_cnn_block_three': 0.3185528959812453, 'dropout_cnn_block_two': 0.41668940737467186, 'dropout_dense_block_one': 0.5780020567856667, 'dropout_dense_block_two': 0.38801056194450073}\n",
            "accuracy=0.9265305995941162\n",
            "{'batch_size': 150.0, 'dropout_cnn_block_one': 0.49666933216563625, 'dropout_cnn_block_three': 0.3959906072068593, 'dropout_cnn_block_two': 0.4510001285067355, 'dropout_dense_block_one': 0.3623240515522659, 'dropout_dense_block_two': 0.4717954603158188}\n",
            "accuracy=0.920634925365448\n",
            "{'batch_size': 130.0, 'dropout_cnn_block_one': 0.35190686080235983, 'dropout_cnn_block_three': 0.48720208289633116, 'dropout_cnn_block_two': 0.38299047968331756, 'dropout_dense_block_one': 0.3632611418164681, 'dropout_dense_block_two': 0.3552093599658982}\n",
            "accuracy=0.9530612230300903\n",
            "{'batch_size': 110.0, 'dropout_cnn_block_one': 0.4304142752160458, 'dropout_cnn_block_three': 0.39443804720202585, 'dropout_cnn_block_two': 0.42851503815899183, 'dropout_dense_block_one': 0.31094630070267465, 'dropout_dense_block_two': 0.32845886075891334}\n",
            "accuracy=0.9256235957145691\n",
            "{'batch_size': 150.0, 'dropout_cnn_block_one': 0.4175833882568074, 'dropout_cnn_block_three': 0.3200756363712919, 'dropout_cnn_block_two': 0.3583499869205714, 'dropout_dense_block_one': 0.32460620161089265, 'dropout_dense_block_two': 0.5123514947775185}\n",
            "accuracy=0.9308390021324158\n",
            "{'batch_size': 150.0, 'dropout_cnn_block_one': 0.4042481027106675, 'dropout_cnn_block_three': 0.43385787571178314, 'dropout_cnn_block_two': 0.45137693589253575, 'dropout_dense_block_one': 0.44430893053813936, 'dropout_dense_block_two': 0.46396543132874896}\n",
            "accuracy=0.9553288221359253\n",
            "{'batch_size': 160.0, 'dropout_cnn_block_one': 0.4660469934126803, 'dropout_cnn_block_three': 0.39877596057902986, 'dropout_cnn_block_two': 0.4500505221152483, 'dropout_dense_block_one': 0.3522805544018712, 'dropout_dense_block_two': 0.4248811177917361}\n",
            "accuracy=0.9181405901908875\n",
            "{'batch_size': 110.0, 'dropout_cnn_block_one': 0.30922820500003206, 'dropout_cnn_block_three': 0.4294647776795777, 'dropout_cnn_block_two': 0.44392440229775776, 'dropout_dense_block_one': 0.44466488563362994, 'dropout_dense_block_two': 0.5301341879514486}\n",
            "accuracy=0.8900226950645447\n",
            "{'batch_size': 140.0, 'dropout_cnn_block_one': 0.36748184696456493, 'dropout_cnn_block_three': 0.38644769620383007, 'dropout_cnn_block_two': 0.3103768846389871, 'dropout_dense_block_one': 0.4097630648616611, 'dropout_dense_block_two': 0.42547829703606405}\n",
            "accuracy=0.9643990993499756\n",
            "{'batch_size': 200.0, 'dropout_cnn_block_one': 0.3241743156594629, 'dropout_cnn_block_three': 0.44409285139408283, 'dropout_cnn_block_two': 0.317985204811052, 'dropout_dense_block_one': 0.6290651325912899, 'dropout_dense_block_two': 0.39223501745369116}\n",
            "accuracy=0.9501133561134338\n",
            "{'batch_size': 150.0, 'dropout_cnn_block_one': 0.308114313239733, 'dropout_cnn_block_three': 0.4159859432883949, 'dropout_cnn_block_two': 0.354165860897672, 'dropout_dense_block_one': 0.3275856799775851, 'dropout_dense_block_two': 0.3330664108184819}\n",
            "accuracy=0.9639455676078796\n",
            "{'batch_size': 120.0, 'dropout_cnn_block_one': 0.3189942863827568, 'dropout_cnn_block_three': 0.36473857485572647, 'dropout_cnn_block_two': 0.30970124286052253, 'dropout_dense_block_one': 0.48702911162631757, 'dropout_dense_block_two': 0.5400581112558338}\n",
            "accuracy=0.9117913842201233\n",
            "{'batch_size': 120.0, 'dropout_cnn_block_one': 0.43964374494189506, 'dropout_cnn_block_three': 0.4138290723055529, 'dropout_cnn_block_two': 0.4865825417354668, 'dropout_dense_block_one': 0.47685607993072693, 'dropout_dense_block_two': 0.3795685945643224}\n",
            "accuracy=0.9428571462631226\n",
            "{'batch_size': 170.0, 'dropout_cnn_block_one': 0.36608764926927667, 'dropout_cnn_block_three': 0.369983069035911, 'dropout_cnn_block_two': 0.382121356222992, 'dropout_dense_block_one': 0.3849001228428533, 'dropout_dense_block_two': 0.5195833947853348}\n",
            "accuracy=0.9197278618812561\n",
            "{'batch_size': 130.0, 'dropout_cnn_block_one': 0.33898067177635155, 'dropout_cnn_block_three': 0.30416925715149984, 'dropout_cnn_block_two': 0.41122513237544706, 'dropout_dense_block_one': 0.3392722168390341, 'dropout_dense_block_two': 0.6400544825636127}\n",
            "accuracy=0.9544217586517334\n",
            "{'batch_size': 110.0, 'dropout_cnn_block_one': 0.30414402857500905, 'dropout_cnn_block_three': 0.4618005423014099, 'dropout_cnn_block_two': 0.49253932221614005, 'dropout_dense_block_one': 0.48126670144849404, 'dropout_dense_block_two': 0.46761505605779924}\n",
            "accuracy=0.9469387531280518\n",
            "{'batch_size': 170.0, 'dropout_cnn_block_one': 0.46797058250264545, 'dropout_cnn_block_three': 0.380399389130958, 'dropout_cnn_block_two': 0.35649277250391653, 'dropout_dense_block_one': 0.35751647392113983, 'dropout_dense_block_two': 0.6678359733741266}\n",
            "accuracy=0.8380952477455139\n",
            "{'batch_size': 160.0, 'dropout_cnn_block_one': 0.4583482284359991, 'dropout_cnn_block_three': 0.39608194422900234, 'dropout_cnn_block_two': 0.42908731491755503, 'dropout_dense_block_one': 0.31632103969369, 'dropout_dense_block_two': 0.468307222546241}\n",
            "accuracy=0.9396825432777405\n",
            "{'batch_size': 180.0, 'dropout_cnn_block_one': 0.3781897502642132, 'dropout_cnn_block_three': 0.33745881728661087, 'dropout_cnn_block_two': 0.33528175948398353, 'dropout_dense_block_one': 0.4187999938407446, 'dropout_dense_block_two': 0.3054477359518959}\n",
            "accuracy=0.9562358260154724\n",
            "{'batch_size': 200.0, 'dropout_cnn_block_one': 0.38567631387132056, 'dropout_cnn_block_three': 0.3527307991894715, 'dropout_cnn_block_two': 0.33513657256321877, 'dropout_dense_block_one': 0.6948927221791515, 'dropout_dense_block_two': 0.4255091658216876}\n",
            "accuracy=0.9138321876525879\n",
            "{'batch_size': 140.0, 'dropout_cnn_block_one': 0.3446812677209602, 'dropout_cnn_block_three': 0.47447772773356583, 'dropout_cnn_block_two': 0.3388027671801663, 'dropout_dense_block_one': 0.40392907619847945, 'dropout_dense_block_two': 0.30432012152019644}\n",
            "accuracy=0.9691609740257263\n",
            "{'batch_size': 130.0, 'dropout_cnn_block_one': 0.34469018414937164, 'dropout_cnn_block_three': 0.45350155331960934, 'dropout_cnn_block_two': 0.3233652940048583, 'dropout_dense_block_one': 0.39975219775089094, 'dropout_dense_block_two': 0.3006074269110719}\n",
            "accuracy=0.9616780281066895\n",
            "{'batch_size': 140.0, 'dropout_cnn_block_one': 0.3622395863980752, 'dropout_cnn_block_three': 0.46585383627550403, 'dropout_cnn_block_two': 0.3023471851932267, 'dropout_dense_block_one': 0.44587063314864067, 'dropout_dense_block_two': 0.4241356637846317}\n",
            "accuracy=0.9437641501426697\n",
            "{'batch_size': 140.0, 'dropout_cnn_block_one': 0.39062489254771704, 'dropout_cnn_block_three': 0.489467340099999, 'dropout_cnn_block_two': 0.38251360364908593, 'dropout_dense_block_one': 0.40367711156042596, 'dropout_dense_block_two': 0.3554595905928007}\n",
            "accuracy=0.9417233467102051\n",
            "{'batch_size': 100.0, 'dropout_cnn_block_one': 0.33273821787504054, 'dropout_cnn_block_three': 0.35339185654168687, 'dropout_cnn_block_two': 0.33839592283509334, 'dropout_dense_block_one': 0.5634002240060763, 'dropout_dense_block_two': 0.3033781213186213}\n",
            "accuracy=0.9625850319862366\n",
            "{'batch_size': 120.0, 'dropout_cnn_block_one': 0.3714105267351974, 'dropout_cnn_block_three': 0.47804818149697853, 'dropout_cnn_block_two': 0.3955282800240834, 'dropout_dense_block_one': 0.4253049092366242, 'dropout_dense_block_two': 0.5775034253340401}\n",
            "accuracy=0.9523809552192688\n",
            "{'batch_size': 140.0, 'dropout_cnn_block_one': 0.4016107659085847, 'dropout_cnn_block_three': 0.37934563781224045, 'dropout_cnn_block_two': 0.3704796698071309, 'dropout_dense_block_one': 0.510754548571097, 'dropout_dense_block_two': 0.6121398871301285}\n",
            "accuracy=0.9131519198417664\n",
            "{'batch_size': 160.0, 'dropout_cnn_block_one': 0.3536790942761701, 'dropout_cnn_block_three': 0.4156021561446145, 'dropout_cnn_block_two': 0.32409510747668224, 'dropout_dense_block_one': 0.5459329496267332, 'dropout_dense_block_two': 0.40886219687214626}\n",
            "accuracy=0.9353741407394409\n",
            "100%|██████████| 30/30 [07:30<00:00, 15.03s/it, best loss: -0.9691609740257263]\n"
          ],
          "name": "stdout"
        }
      ]
    },
    {
      "cell_type": "code",
      "metadata": {
        "id": "IWmhw7qr-Y0L",
        "colab_type": "code",
        "colab": {}
      },
      "source": [
        ""
      ],
      "execution_count": 0,
      "outputs": []
    }
  ]
}